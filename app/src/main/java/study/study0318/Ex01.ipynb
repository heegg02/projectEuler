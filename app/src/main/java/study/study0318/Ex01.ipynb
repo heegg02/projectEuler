{
 "cells": [
  {
   "cell_type": "markdown",
   "id": "10152cf0-4b7f-43e6-917e-fecdcd102ec8",
   "metadata": {},
   "source": [
    "=== 기러기 토마토 스위스 인도인 별똥별 우영우 역삼역 ===\n",
    "\n",
    "\n",
    "알파벳 소문자로만 이루어진 단어가 주어진다. 이때, 이 단어가 팰린드롬인지 아닌지 확인하는 프로그램을 작성하시오.\n",
    "\n",
    "팰린드롬이란 앞으로 읽을 때와 거꾸로 읽을 때 똑같은 단어를 말한다. \n",
    "\n",
    "level, noon은 팰린드롬이고, online, judge는 팰린드롬이 아니다.\n",
    "\n",
    "팰린드롬이면 1을 반환하고 아니면 0을 반환한다\n",
    "\n",
    "\n",
    "언어는 Java, Python, JavaScript 중 하나로 작성하면 된다.\n",
    "\n",
    "\n",
    "===== 입 출력 예시 ======\n",
    "\n",
    "입력 -> level \n",
    "출력 -> 1\n",
    "\n",
    "입력 -> 12321\n",
    "출력 -> 1\n",
    "\n",
    "입력 -> apple\n",
    "출력 -> 0\n",
    "\n",
    "입력 -> 54251\n",
    "출력 -> 0"
   ]
  },
  {
   "cell_type": "code",
   "execution_count": 24,
   "id": "9ae09f3b-0990-4a43-8333-1ae53b65d627",
   "metadata": {},
   "outputs": [
    {
     "name": "stdin",
     "output_type": "stream",
     "text": [
      "알파벳 소문자로만 이루어진 단어 입력 -> 12321\n"
     ]
    },
    {
     "name": "stdout",
     "output_type": "stream",
     "text": [
      "1\n"
     ]
    }
   ],
   "source": [
    "word = input('알파벳 소문자로만 이루어진 단어 입력 ->')\n",
    "print(1) if word == word[::-1] else print(0)"
   ]
  }
 ],
 "metadata": {
  "kernelspec": {
   "display_name": "Python 3 (ipykernel)",
   "language": "python",
   "name": "python3"
  },
  "language_info": {
   "codemirror_mode": {
    "name": "ipython",
    "version": 3
   },
   "file_extension": ".py",
   "mimetype": "text/x-python",
   "name": "python",
   "nbconvert_exporter": "python",
   "pygments_lexer": "ipython3",
   "version": "3.11.7"
  }
 },
 "nbformat": 4,
 "nbformat_minor": 5
}
