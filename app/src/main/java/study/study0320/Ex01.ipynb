{
 "cells": [
  {
   "cell_type": "code",
   "execution_count": 75,
   "id": "3c21a381-d39e-4d46-bc5e-7296e3cf37b6",
   "metadata": {},
   "outputs": [
    {
     "name": "stdin",
     "output_type": "stream",
     "text": [
      "정수입력: 100\n"
     ]
    },
    {
     "name": "stdout",
     "output_type": "stream",
     "text": [
      "2\n",
      "3\n",
      "5\n",
      "7\n",
      "11\n",
      "13\n",
      "17\n",
      "19\n",
      "23\n",
      "29\n",
      "31\n",
      "37\n",
      "41\n",
      "43\n",
      "47\n",
      "53\n",
      "59\n",
      "61\n",
      "67\n",
      "71\n",
      "73\n",
      "79\n",
      "83\n",
      "89\n",
      "97\n"
     ]
    }
   ],
   "source": [
    "# 정수 하나를 입력 받아서 \n",
    "# 1) 입력받은 정수가 소수일 경우에는 그 정수를 포함한 작은 소수들만 출력하고 \n",
    "# 2) 입력받은 정수가 소수가 아닐 경우에는 그 정수보다 작은 소수들만 출력하는 코드를 만드시오.\n",
    "# 소수란? : 1과 자기 자신으로만 나눠지는 수(1은 불포함) \n",
    "# (소수 예 : 2,3,5,7,...)(소수가 아닌 예 : 4는 1,2,4로 나눠지므로 소수가 아님)\n",
    "# 아래 적어진 형식 말고도 코드를 만들어도 됩니다!\n",
    "\n",
    "\n",
    "# 정수 입력 받기(힌트 :input)\n",
    "num = int(input('정수입력:'))\n",
    "for i in range(2, num+1):\n",
    "    for j in range(2, i+1):\n",
    "        if j==i:\n",
    "            print(i)\n",
    "        elif i%j==0:\n",
    "            break\n",
    "        \n",
    "# for문으로 자기 자신보다 작은 소수만 출력하는 코드 만들기(힌트 : 이중 for문 사용& if & elif사용)\n",
    "# 추가 힌트 : 1은 불포함이므로 처음 for문의 범위는 range(2,끝)으로 설정 "
   ]
  },
  {
   "cell_type": "code",
   "execution_count": null,
   "id": "ce5557e9-be70-4ccc-8443-749c3c1525c5",
   "metadata": {},
   "outputs": [],
   "source": []
  },
  {
   "cell_type": "code",
   "execution_count": null,
   "id": "e25ea7aa-6522-4aa6-925b-e37c3191ee53",
   "metadata": {},
   "outputs": [],
   "source": []
  }
 ],
 "metadata": {
  "kernelspec": {
   "display_name": "Python 3 (ipykernel)",
   "language": "python",
   "name": "python3"
  },
  "language_info": {
   "codemirror_mode": {
    "name": "ipython",
    "version": 3
   },
   "file_extension": ".py",
   "mimetype": "text/x-python",
   "name": "python",
   "nbconvert_exporter": "python",
   "pygments_lexer": "ipython3",
   "version": "3.11.7"
  }
 },
 "nbformat": 4,
 "nbformat_minor": 5
}
