{
 "cells": [
  {
   "cell_type": "code",
   "execution_count": null,
   "id": "1764c063-595d-4d74-bee3-bb492bdeaf66",
   "metadata": {},
   "outputs": [],
   "source": [
    "#주어진 문자열에서 l이 몇 번 등장하는지 세시오(count)\n",
    "text = \"hello world\"\n",
    "char = \"l\"\n",
    "print(text.count(char))\n",
    "\n",
    "#문자열에서 공백을 모두 제거한 후에 결과를 출력하세요.(replace)\n",
    "text = \"hello world\"\n",
    "print(text.replace(\" \", \"\"))\n",
    "\n",
    "#해당 문자열을 거꾸로 출력하세요.(reverse)\n",
    "text =  \"python\"\n",
    "print(text[::-1])\n",
    "\n",
    "#주어진 리스트에서 중복된 항목을 제거하고, 결과를 출력하세요.(set)\n",
    "list = [1, 2, 2, 3, 4, 4, 5]\n",
    "print(set(list))\n",
    "\n",
    "#주어진 리스트를 역순으로 정렬한 결과를 출력하세요.(reverse)\n",
    "list = [3, 1, 4, 1, 5, 9, 2]\n",
    "list.sort(reverse=True)\n",
    "print(list)\n",
    "\n",
    "#주어진 리스트에 있는 모든 숫자의 합을 계산하여 출력하세요.(sum)\n",
    "list = [1, 2, 3, 4, 5]\n",
    "print(sum(list))\n",
    "\n",
    "#해당 리스트의 최대값과 최소값을 출력하세요.(min,max)\n",
    "list = [5, 2, 7, 1, 9]\n",
    "print(min(list),max(list))\n",
    "\n",
    "#해당 리스트에 add리스트를 더하시오(extend)\n",
    "list = [1, 2, 3, 4, 5]\n",
    "add = [9, 8, 7]\n",
    "list.extend(add)\n",
    "print(list)\n",
    "\n",
    "# 숫자 4를 리스트 안에 있는 숫자1 뒤에 삽입하시오(insert)\n",
    "list = [1, 2, 3, 5]\n",
    "list.insert(1, 1)\n",
    "print(list)"
   ]
  }
 ],
 "metadata": {
  "kernelspec": {
   "display_name": "Python 3 (ipykernel)",
   "language": "python",
   "name": "python3"
  },
  "language_info": {
   "codemirror_mode": {
    "name": "ipython",
    "version": 3
   },
   "file_extension": ".py",
   "mimetype": "text/x-python",
   "name": "python",
   "nbconvert_exporter": "python",
   "pygments_lexer": "ipython3",
   "version": "3.11.7"
  }
 },
 "nbformat": 4,
 "nbformat_minor": 5
}
