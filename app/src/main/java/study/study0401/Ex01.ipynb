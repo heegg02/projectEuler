{
 "cells": [
  {
   "cell_type": "code",
   "execution_count": null,
   "metadata": {},
   "outputs": [],
   "source": [
    "import numpy as np"
   ]
  },
  {
   "cell_type": "code",
   "execution_count": null,
   "metadata": {},
   "outputs": [],
   "source": [
    "# 문제 1.\n",
    "arr2 = np.array([[a,b,c],[4,5,6],[e,f,g]])\n",
    "\n",
    "# 1. arr2에서 g를 꺼내기 : 세 번째 행의 세 번째 요소\n",
    "print(arr2[2,2])\n",
    "\n",
    "\n",
    "# 2. arr2에서 모든열의 세번째 요소 [c,6,g] 출력\n",
    "print(arr2[2,:])\n",
    "\n",
    "\n",
    "# 3. arr2에서 [[a,b], [4,5]] 출력\n",
    "print(arr2[:2,:2])\n",
    "\n",
    "\n",
    "# 4. arr2에서 [[5,6], [f,g]] 출력\n",
    "print(arr2[1:,1:])\n",
    "\n",
    "\n",
    "m = np.array([[ h,  i,  j,  k,  l],\n",
    "              [ 5,  6,  7,  8,  9],\n",
    "              [10, 11, 12, 13, 14]])\n",
    "\n",
    "# 5. m 행렬에서 값 7 을 인덱싱.\n",
    "print(m[1,2])\n",
    "\n",
    "# 6. m 행렬에서 배열 [6, 7] 을 슬라이싱.\n",
    "print(m[1,1:3])\n",
    "\n",
    "# 7. m 행렬에서 배열 [7, 12] 을 슬라이싱.\n",
    "print(m[1:,2])\n",
    "\n",
    "# 8. m 행렬에서 배열 [[k, l], [8, 9]] 을 슬라이싱.\n",
    "print(m[:2,3:])"
   ]
  },
  {
   "cell_type": "code",
   "execution_count": null,
   "metadata": {},
   "outputs": [],
   "source": [
    "# 문제 2. \n",
    "# 1) 1차원 배열인덱싱 (블리언)\n",
    "\n",
    "a = np.array([1,2,3,4,5,6,7,8,9,10])\n",
    "idx = np.array([False, True,False, True, False, True, False, True, False, True])\n",
    "print(a[idx])\n",
    "\n",
    "# 7과 10만 추출\n",
    "idx = np.array([False, False,False, False, False, False, True, False, False, True])\n",
    "print(a[idx])\n",
    "\n",
    "# 짝수만 추출 \n",
    "a = np.array([1,2,3,4,5,6,7,8,9,10,11,12,13,14,15,16,17,18,19,20])\n",
    "print(a[a%2==0])\n",
    "\n",
    "# 홀수만 추출 \n",
    "a = np.array([1,2,3,4,5,6,7,8,9,10,11,12,13,14,15,16,17,18,19,20])\n",
    "print(a[a%2!=0])\n",
    "\n",
    "\n",
    "#2) 2차원 배열인덱싱(블리언)\n",
    "a = np.array([\n",
    "    [1,2,3,4],\n",
    "    [5,6,7,8],\n",
    "    [9,10,11,12]\n",
    "])\n",
    "print(a)\n",
    "\n",
    "#  1,5,9,4,8,12만 추출\n",
    "\n",
    "print(a[:,::3])\n",
    "\n",
    "\n",
    "#  2,5,7,10만 추출하기\n",
    "\n",
    "idx = np.array([\n",
    "    [False, True, False, False],\n",
    "    [True, False, True, False],\n",
    "    [False, True, False, False]\n",
    "])\n",
    "print(a[idx])"
   ]
  },
  {
   "cell_type": "code",
   "execution_count": null,
   "metadata": {},
   "outputs": [],
   "source": [
    "# 문제3. sort()\n",
    "\n",
    "arr = np.array([[10,29,84,1,45,16],['f','a','m','g','k','e']])\n",
    "\n",
    "# a. 행정렬\n",
    "print(f'numpy 배열의 정렬 = {np.sort(arr, axis=1)}')\n",
    "\n",
    "# b. 첫번째 행만 정렬\n",
    "print(f'numpy 배열의 첫번째 행만 정렬 = {np.sort(arr[0])}')\n",
    "\n",
    "\n",
    "# c. 열과행 모두 정렬(axis 사용)\n",
    "print(f'numpy 배열의 정렬 = {np.sort(arr, axis=0)}, {np.sort(arr, axis=1)}')"
   ]
  },
  {
   "cell_type": "code",
   "execution_count": null,
   "metadata": {},
   "outputs": [],
   "source": [
    "# 문제4. unique()\n",
    "idols = np.array(['은채','사쿠라','채원','혜린','민지','하니','민지','은채'])\n",
    "\n",
    "# 1) 1차원배열 중복제거\n",
    "print(f'1차원배열 중복제거 = {np.unique(idols)}')\n",
    "\n",
    "# 2) 2차원중복제거\n",
    "numbers = [[11,12],[11,12],[43,38]]\n",
    "print(f'2차원배열 중복제거(전체)={np.unique(numbers)}')\n",
    "print(f'2차원배열 중복제거(열:axis=0) = {np.unique(numbers, axis=0)}')\n",
    "print(f'2차원배열 중복제거(행:axis=1) = {np.unique(numbers, axis=1)}')"
   ]
  }
 ],
 "metadata": {
  "kernelspec": {
   "display_name": "Python 3",
   "language": "python",
   "name": "python3"
  },
  "language_info": {
   "codemirror_mode": {
    "name": "ipython",
    "version": 3
   },
   "file_extension": ".py",
   "mimetype": "text/x-python",
   "name": "python",
   "nbconvert_exporter": "python",
   "pygments_lexer": "ipython3",
   "version": "3.11.0rc2"
  }
 },
 "nbformat": 4,
 "nbformat_minor": 2
}
