{
 "cells": [
  {
   "cell_type": "code",
   "execution_count": 1,
   "id": "65c24462-3da7-4a8d-9f68-e3e975ded0d0",
   "metadata": {},
   "outputs": [],
   "source": [
    "# 오늘 배운 파이썬으로 데이터베이스를 접속하고 1. 조건별 출력 그리고 2. 삭제기능을 만드세용!~\n",
    "# MySQLdb or sqlite3 사용\n",
    "#데이터베이스 링크 =>./data/study.db\n",
    "#데이터베이스 컬럼 id, name, age, addr\n",
    "##데이터베이스 host = localhost / port= 3308 / db = study / users = root / password = 12345\n",
    "\n",
    "#1. 조건 : name에 '영' 이라는 글자 그리고 age는 25이상인 데이터를 모두 출력\n",
    "#2. 조건 :나이가 20세에서 30세 사이이고 주소가 '서울' 또는 '부산'인 사용자를 검색하며, 그 결과를 나이를 기준으로 내림차순으로 정렬하기\n",
    "\n",
    "#####################################################################\n",
    "#데이터베이스가 없기 떄문에 임시로 있다고 생각해서 오늘 배운 파이썬 코드 활용하면서 복습한다는 개념으로 코드 작성하기!!\n",
    "# 3개의 코드가 나와야합니다.    // 메서드를 만들어서 작성\n",
    "# 꼭 밑의 형식을 따라할 필요는 없습니당!\n",
    "# 수업시간에 한 코드 보면서 공부해도 좋습니다.!!\n",
    "#조건1을 풀게되면 2는 금방 풀어서 열시미 해봅시다!"
   ]
  },
  {
   "cell_type": "code",
   "execution_count": 6,
   "id": "569667ac-cc39-4647-bd3b-c470bddc06fc",
   "metadata": {},
   "outputs": [
    {
     "ename": "NameError",
     "evalue": "name 'cursor' is not defined",
     "output_type": "error",
     "traceback": [
      "\u001b[1;31m---------------------------------------------------------------------------\u001b[0m",
      "\u001b[1;31mNameError\u001b[0m                                 Traceback (most recent call last)",
      "Cell \u001b[1;32mIn[6], line 17\u001b[0m\n\u001b[0;32m     14\u001b[0m     \u001b[38;5;28;01mfor\u001b[39;00m book \u001b[38;5;129;01min\u001b[39;00m books:\n\u001b[0;32m     15\u001b[0m         \u001b[38;5;28mprint\u001b[39m(book)\n\u001b[1;32m---> 17\u001b[0m cursor\u001b[38;5;241m.\u001b[39mclose()\n\u001b[0;32m     18\u001b[0m conn\u001b[38;5;241m.\u001b[39mclose()\n",
      "\u001b[1;31mNameError\u001b[0m: name 'cursor' is not defined"
     ]
    }
   ],
   "source": [
    "#형식\n",
    "import sqlite3\n",
    "\n",
    "def select1():\n",
    "    conn = sqlite3.connect('./data/study.db')\n",
    "    cursor = conn.cursor()\n",
    "\n",
    "    sql = 'select * from study where age=25 and name=\"%영%\"'\n",
    "    cursor.execute(sql)\n",
    "\n",
    "    books = cursor.felchall()\n",
    "\n",
    "    ##출력문\n",
    "    for book in books:\n",
    "        print(book)\n",
    "\n",
    "    cursor.close()\n",
    "    conn.close()\n",
    "\n",
    "\n",
    "def select2():\n",
    "    conn = sqlite3.connect('./data/study.db')\n",
    "    cursor = conn.cursor()\n",
    "\n",
    "    sql = \"select * from study where (age>20 and age<30) and addr in ('서울', '부산') order by age desc\"\n",
    "    cursor.execute(sql)\n",
    "\n",
    "    books = cursor.felchall()\n",
    "\n",
    "    ##출력문\n",
    "    for book in books:\n",
    "        print(book)\n",
    "\n",
    "    cursor.close()\n",
    "    conn.close()\n",
    "\n",
    "select1()\n",
    "select2()"
   ]
  },
  {
   "cell_type": "code",
   "execution_count": null,
   "id": "c37b0aee-17d2-4b1d-b06b-0346bd9d5d34",
   "metadata": {},
   "outputs": [],
   "source": [
    "#형식\n",
    "import MySQLdb\n",
    "\n",
    "def select1():\n",
    "    conn = MySQLdb.connect(host=\"localhost\", port=3308, db='study', user='root', password='12345')\n",
    "    cursor = conn.cursor()\n",
    "    \n",
    "    sql = 'select * from study where age=25 and name=\"%영%\"'\n",
    "    cursor.execute(sql)\n",
    "\n",
    "    books = cursor.felchall()\n",
    "\n",
    "    ##출력문\n",
    "    for book in books:\n",
    "        print(book)\n",
    "\n",
    "    cursor.close()\n",
    "    conn.close() \n",
    "    \n",
    "def select2():\n",
    "    conn = MySQLdb.connect(host=\"localhost\", port=3308, db='study', user='root', password='12345')\n",
    "    cursor = conn.cursor()\n",
    "    \n",
    "    sql = \"select * from study where (age>20 and age<30) and addr in ('서울', '부산') order by age desc\"\n",
    "    cursor.execute(sql)\n",
    "\n",
    "    books = cursor.felchall()\n",
    "\n",
    "    ##출력문\n",
    "    for book in books:\n",
    "        print(book)\n",
    "\n",
    "    cursor.close()\n",
    "    conn.close()\n",
    "\n",
    "select1()\n",
    "select2()"
   ]
  }
 ],
 "metadata": {
  "kernelspec": {
   "display_name": "Python 3 (ipykernel)",
   "language": "python",
   "name": "python3"
  },
  "language_info": {
   "codemirror_mode": {
    "name": "ipython",
    "version": 3
   },
   "file_extension": ".py",
   "mimetype": "text/x-python",
   "name": "python",
   "nbconvert_exporter": "python",
   "pygments_lexer": "ipython3",
   "version": "3.11.7"
  }
 },
 "nbformat": 4,
 "nbformat_minor": 5
}
