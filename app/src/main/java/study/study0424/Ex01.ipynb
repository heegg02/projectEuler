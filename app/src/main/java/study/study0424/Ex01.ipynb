{
 "cells": [
  {
   "cell_type": "code",
   "execution_count": 1,
   "id": "d9b18557-f774-49fb-861b-dcb11515e7c4",
   "metadata": {},
   "outputs": [
    {
     "name": "stdout",
     "output_type": "stream",
     "text": [
      "Downloading data from https://storage.googleapis.com/tensorflow/tf-keras-datasets/imdb.npz\n",
      "\u001b[1m17464789/17464789\u001b[0m \u001b[32m━━━━━━━━━━━━━━━━━━━━\u001b[0m\u001b[37m\u001b[0m \u001b[1m1s\u001b[0m 0us/step\n",
      "시퀀스 패딩 (samples x time)\n",
      "x_train shape: (25000, 100)\n",
      "x_test shape: (25000, 100)\n"
     ]
    },
    {
     "name": "stderr",
     "output_type": "stream",
     "text": [
      "C:\\Users\\이환희\\AppData\\Roaming\\Python\\Python311\\site-packages\\keras\\src\\layers\\core\\embedding.py:90: UserWarning: Argument `input_length` is deprecated. Just remove it.\n",
      "  warnings.warn(\n"
     ]
    },
    {
     "name": "stdout",
     "output_type": "stream",
     "text": [
      "Epoch 1/10\n",
      "\u001b[1m782/782\u001b[0m \u001b[32m━━━━━━━━━━━━━━━━━━━━\u001b[0m\u001b[37m\u001b[0m \u001b[1m25s\u001b[0m 29ms/step - accuracy: 0.7348 - loss: 0.5001 - val_accuracy: 0.8499 - val_loss: 0.3411\n",
      "Epoch 2/10\n",
      "\u001b[1m782/782\u001b[0m \u001b[32m━━━━━━━━━━━━━━━━━━━━\u001b[0m\u001b[37m\u001b[0m \u001b[1m23s\u001b[0m 30ms/step - accuracy: 0.9155 - loss: 0.2135 - val_accuracy: 0.8469 - val_loss: 0.3865\n",
      "Epoch 3/10\n",
      "\u001b[1m782/782\u001b[0m \u001b[32m━━━━━━━━━━━━━━━━━━━━\u001b[0m\u001b[37m\u001b[0m \u001b[1m24s\u001b[0m 30ms/step - accuracy: 0.9629 - loss: 0.1034 - val_accuracy: 0.8332 - val_loss: 0.4592\n",
      "Epoch 4/10\n",
      "\u001b[1m782/782\u001b[0m \u001b[32m━━━━━━━━━━━━━━━━━━━━\u001b[0m\u001b[37m\u001b[0m \u001b[1m24s\u001b[0m 30ms/step - accuracy: 0.9855 - loss: 0.0463 - val_accuracy: 0.8320 - val_loss: 0.6461\n",
      "Epoch 5/10\n",
      "\u001b[1m782/782\u001b[0m \u001b[32m━━━━━━━━━━━━━━━━━━━━\u001b[0m\u001b[37m\u001b[0m \u001b[1m24s\u001b[0m 31ms/step - accuracy: 0.9909 - loss: 0.0289 - val_accuracy: 0.8254 - val_loss: 0.6865\n",
      "Epoch 6/10\n",
      "\u001b[1m782/782\u001b[0m \u001b[32m━━━━━━━━━━━━━━━━━━━━\u001b[0m\u001b[37m\u001b[0m \u001b[1m25s\u001b[0m 32ms/step - accuracy: 0.9930 - loss: 0.0232 - val_accuracy: 0.8312 - val_loss: 0.8343\n",
      "Epoch 7/10\n",
      "\u001b[1m782/782\u001b[0m \u001b[32m━━━━━━━━━━━━━━━━━━━━\u001b[0m\u001b[37m\u001b[0m \u001b[1m30s\u001b[0m 39ms/step - accuracy: 0.9964 - loss: 0.0132 - val_accuracy: 0.8251 - val_loss: 0.8016\n",
      "Epoch 8/10\n",
      "\u001b[1m782/782\u001b[0m \u001b[32m━━━━━━━━━━━━━━━━━━━━\u001b[0m\u001b[37m\u001b[0m \u001b[1m27s\u001b[0m 35ms/step - accuracy: 0.9980 - loss: 0.0080 - val_accuracy: 0.8337 - val_loss: 0.7961\n",
      "Epoch 9/10\n",
      "\u001b[1m782/782\u001b[0m \u001b[32m━━━━━━━━━━━━━━━━━━━━\u001b[0m\u001b[37m\u001b[0m \u001b[1m28s\u001b[0m 35ms/step - accuracy: 0.9984 - loss: 0.0069 - val_accuracy: 0.8303 - val_loss: 0.9708\n",
      "Epoch 10/10\n",
      "\u001b[1m782/782\u001b[0m \u001b[32m━━━━━━━━━━━━━━━━━━━━\u001b[0m\u001b[37m\u001b[0m \u001b[1m28s\u001b[0m 35ms/step - accuracy: 0.9994 - loss: 0.0023 - val_accuracy: 0.8218 - val_loss: 1.0877\n",
      "\u001b[1m782/782\u001b[0m \u001b[32m━━━━━━━━━━━━━━━━━━━━\u001b[0m\u001b[37m\u001b[0m \u001b[1m5s\u001b[0m 7ms/step - accuracy: 0.8200 - loss: 1.0945\n",
      "평가결과(손실율)= 1.09\n",
      "평가결과(정확도)= 0.82\n"
     ]
    }
   ],
   "source": [
    "# IMDB 영화 리뷰 데이터셋을 사용한 LSTM 예제\n",
    "\n",
    "# 데이터셋은 긍정적인 리뷰는 1, 부정적인 리뷰는 0으로 레이블이 지정되어 있습니다.\n",
    "\n",
    "import numpy as np\n",
    "from keras.datasets import imdb\n",
    "from keras.preprocessing import sequence\n",
    "from keras.models import Sequential\n",
    "from keras.layers import Dense, Embedding, Bidirectional, LSTM\n",
    "\n",
    "# 모델 특성 설정\n",
    "max_features = 20000 # 단어의 최대 개수 즉, 데이터에서 가장 자주 등장하는 단어의 개수->20000으로 설정\n",
    "maxlen = 100 # 시퀀스 길이 -> 100으로 설정\n",
    "batch_size = 32\n",
    "\n",
    "# 데이터 로드 및 train/test 셋으로 데이터 분할\n",
    "(X_train, y_train), (X_test, y_test) = imdb.load_data(num_words=max_features)\n",
    "\n",
    "# 시퀀스 패딩\n",
    "# 리뷰의 길이가 다양하므로 sequence.pad_sequences() 함수를 사용하여 시퀀스를 일정한 길이\n",
    "# 즉 ,위에서 설정한 최대 길이(maxlen)로 패딩합니다.\n",
    "print('시퀀스 패딩 (samples x time)')\n",
    "X_train = sequence.pad_sequences(X_train, maxlen=maxlen)\n",
    "X_test = sequence.pad_sequences(X_test, maxlen=maxlen)\n",
    "print('x_train shape:', X_train.shape)\n",
    "print('x_test shape:', X_test.shape)\n",
    "\n",
    "# 모델 구축\n",
    "# 층 쌓는 순서\n",
    "# 1. Sequential() 층\n",
    "model = Sequential()\n",
    "\n",
    "# 2. Embedding() 층\n",
    "# 입력으로 들어온 각 정수를 고정된 차원의 벡터로 임베딩하는 층\n",
    "# 이 층의 input_dim은 max_featurs로, output_dim은 128로, input_length는 maxlen으로 지정해서 작성해주세요.\n",
    "model.add(Embedding(input_dim=max_features, output_dim=128, input_length=maxlen))\n",
    "\n",
    "# 3. Bidirectional() 층\n",
    "# 양방향 LSTM 층을 추가해주는 층\n",
    "# 예시 : LSTM의 출력층을 32개로 하는 Bidirectional층은 Bidirectional(LSTM(32))라고 작성합니다.\n",
    "# 이 층의 LSTM 출력층을 64로 지정해서 작성해주세요.\n",
    "model.add(Bidirectional(LSTM(64)))\n",
    "\n",
    "# 4. Dense() 층\n",
    "# 완전 연결(fully connected) 층\n",
    "# 이 층은 입력 데이터를 받아 각 뉴런에 대한 가중치를 적용하고 활성화 함수를 통해 출력층을 생성합니다.\n",
    "# 이 층의 출력층의 개수는 1개, 활성함수는 sigmoid로 지정해주세요\n",
    "model.add(Dense(1, activation='sigmoid'))\n",
    "\n",
    "# model compile\n",
    "# 옵티마이저는 adam, 손실함수는 binary_crossentropy로, metircs는 'accuracy'로 지정해주세요\n",
    "model.compile(optimizer='adam', loss='binary_crossentropy', metrics=['accuracy'])\n",
    "\n",
    "# 모델 학습\n",
    "# 에포크는 10으로, validation_data는 x_test, y_test로 지정해주세요\n",
    "model.fit(X_train, y_train, epochs=10, batch_size=batch_size, validation_data=(X_test, y_test))\n",
    "\n",
    "# 모델 평가\n",
    "# 손실율과 정확도를 출력해주세요 :D\n",
    "loss, acc = model.evaluate(X_test, y_test, batch_size=batch_size)\n",
    "print(f'평가결과(손실율)= {loss:.2f}')\n",
    "print(f'평가결과(정확도)= {acc:.2f}')"
   ]
  },
  {
   "cell_type": "code",
   "execution_count": null,
   "id": "229ae0ed-6831-47b7-8dfb-23c04777cf90",
   "metadata": {},
   "outputs": [],
   "source": []
  },
  {
   "cell_type": "code",
   "execution_count": null,
   "id": "7d8371ef-aefc-4680-8e93-2da802a9a205",
   "metadata": {},
   "outputs": [],
   "source": []
  }
 ],
 "metadata": {
  "kernelspec": {
   "display_name": "Python 3 (ipykernel)",
   "language": "python",
   "name": "python3"
  },
  "language_info": {
   "codemirror_mode": {
    "name": "ipython",
    "version": 3
   },
   "file_extension": ".py",
   "mimetype": "text/x-python",
   "name": "python",
   "nbconvert_exporter": "python",
   "pygments_lexer": "ipython3",
   "version": "3.11.7"
  }
 },
 "nbformat": 4,
 "nbformat_minor": 5
}
