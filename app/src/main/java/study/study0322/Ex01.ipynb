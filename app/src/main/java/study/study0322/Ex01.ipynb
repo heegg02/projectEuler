{
 "cells": [
  {
   "cell_type": "raw",
   "id": "b367cddd-639a-42af-a539-a66916fafc12",
   "metadata": {},
   "source": [
    "# [간단한 비밀번호 생성 프로그램]\n",
    "# chars문자열에서 random으로 추출해서 비밀번호 생성\n",
    "# 몇 개를 추출할 것인지는 입력받을 길이로 결정\n",
    "\n",
    "# 여기에 random 모듈 import하기\n",
    "\n",
    "print('Welcome To Password Generator')\n",
    "\n",
    "chars = 'abcdefghijklmnopqrstuvwxyzABCDEFGHIJKLMNOPQRSTUVWXYZ!@$%^&*().,?0123456789'\n",
    "\n",
    "# 여기에 생성할 비밀번호의 갯수와 길이를 각각 number와 length라는 변수로 입력받는 코드 작성\n",
    "\n",
    "\n",
    "# 비밀번호 생성 - 이중 for문 사용\n",
    "print('\\n--Here are your passwords--')\n",
    "\n",
    "  # 여기에 for문 작성\n",
    "\n",
    "----------------------------------\n",
    "출력 예시 - 길이가 10인 비밀번호를 8개 생성\n",
    "\n",
    "Welcome To Password Generator\n",
    "생성할 비밀번호의 갯수 :  8\n",
    "생성할 비밀번호의 길이 :  10\n",
    "\n",
    "--Here are your passwords--\n",
    "XnG,s?Ax2r\n",
    "v06hOvx(st\n",
    "6)@ll%mKMm\n",
    "^HCUV&w1gs\n",
    "v6r5QbDQBc\n",
    "Y39BJ5SJin\n",
    "^JI9yb.R.w\n",
    "LaQ.rFt5G6"
   ]
  },
  {
   "cell_type": "code",
   "execution_count": 11,
   "id": "d1796fe9-2118-4643-865d-7d1109315c1e",
   "metadata": {},
   "outputs": [
    {
     "name": "stdout",
     "output_type": "stream",
     "text": [
      "Welcome To Password Generator\n"
     ]
    },
    {
     "name": "stdin",
     "output_type": "stream",
     "text": [
      "생성할 비밀번호의 갯수 : 1\n",
      "생성할 비밀번호의 길이 : 1\n"
     ]
    },
    {
     "name": "stdout",
     "output_type": "stream",
     "text": [
      "\n",
      "--Here are your passwords--\n",
      "o\n"
     ]
    }
   ],
   "source": [
    "import random\n",
    "print('Welcome To Password Generator')\n",
    "\n",
    "chars = 'abcdefghijklmnopqrstuvwxyzABCDEFGHIJKLMNOPQRSTUVWXYZ!@$%^&*().,?0123456789'\n",
    "\n",
    "number = int(input('생성할 비밀번호의 갯수 :'))\n",
    "length = int(input('생성할 비밀번호의 길이 :'))\n",
    "\n",
    "print('\\n--Here are your passwords--')\n",
    "for row in range(number):\n",
    "    pw = ''\n",
    "    for col in range(length):\n",
    "        pw += random.choice(chars)\n",
    "    print(pw)"
   ]
  },
  {
   "cell_type": "code",
   "execution_count": null,
   "id": "37851032-b1e5-4104-92ba-20667508d8fb",
   "metadata": {},
   "outputs": [],
   "source": []
  }
 ],
 "metadata": {
  "kernelspec": {
   "display_name": "Python 3 (ipykernel)",
   "language": "python",
   "name": "python3"
  },
  "language_info": {
   "codemirror_mode": {
    "name": "ipython",
    "version": 3
   },
   "file_extension": ".py",
   "mimetype": "text/x-python",
   "name": "python",
   "nbconvert_exporter": "python",
   "pygments_lexer": "ipython3",
   "version": "3.11.7"
  }
 },
 "nbformat": 4,
 "nbformat_minor": 5
}
