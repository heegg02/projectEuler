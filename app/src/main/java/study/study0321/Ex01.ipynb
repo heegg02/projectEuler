{
 "cells": [
  {
   "cell_type": "code",
   "execution_count": 47,
   "id": "1387421e-e551-483a-b759-5b5a36411b68",
   "metadata": {},
   "outputs": [
    {
     "name": "stdout",
     "output_type": "stream",
     "text": [
      "4 2\n",
      "3\n",
      "['박지성', '나윤호', '이영표', '윤혜린', '이환희', '유현준', '심주찬', '홍명보', '김영건', '손흥민', '김하영', '정소현', '표민']\n",
      "['김영건', '김하영', '나윤호', '박지성', '손흥민', '심주찬', '유현준', '윤혜린', '이영표', '이환희', '정소현', '표민', '홍명보']\n"
     ]
    }
   ],
   "source": [
    "#아래 names 문자열을 이용해서 1 ~ 4 번 문제 풀면됩니다!\n",
    "\n",
    "names = \"김영건,손흥민,박지성,나윤호,홍명보,심주찬,나윤호,유현준,김영건,표민,김하영,김영건,정소현,윤혜린,이환희,이영표,유현준,손흥민,정소현\".split(\",\")\n",
    "\n",
    "\n",
    "#1 김씨와 이씨 성을 가진 사람은 각각 몇명인지 출력\n",
    "#list - lambda식 이용\n",
    "kim = lambda : [name for name in names if \"김\" in name]\n",
    "lee = lambda : [name for name in names if \"이\" in name]\n",
    "print(len(kim()), len(lee()))\n",
    "\n",
    "#2 김영건 이름이 몇개 들어있는지 출력\n",
    "#lambda식 이용\n",
    "kyg = lambda : [name for name in names if \"김영건\" in name]\n",
    "print(len(kyg()))\n",
    "\n",
    "#3 중복을 제거 후 출력\n",
    "print(list(set(names)))\n",
    "\n",
    "#4 중복 제거 한 이름을 오름차순으로 출력\n",
    "print(sorted(list(set(names))))"
   ]
  },
  {
   "cell_type": "code",
   "execution_count": null,
   "id": "70161605-f721-4ec0-998a-4cbad58f3c4e",
   "metadata": {},
   "outputs": [],
   "source": []
  }
 ],
 "metadata": {
  "kernelspec": {
   "display_name": "Python 3 (ipykernel)",
   "language": "python",
   "name": "python3"
  },
  "language_info": {
   "codemirror_mode": {
    "name": "ipython",
    "version": 3
   },
   "file_extension": ".py",
   "mimetype": "text/x-python",
   "name": "python",
   "nbconvert_exporter": "python",
   "pygments_lexer": "ipython3",
   "version": "3.11.7"
  }
 },
 "nbformat": 4,
 "nbformat_minor": 5
}
