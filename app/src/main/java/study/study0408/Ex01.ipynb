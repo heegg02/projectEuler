{
 "cells": [
  {
   "cell_type": "code",
   "execution_count": null,
   "id": "f8e27074-4401-4dea-8d96-98fba7373272",
   "metadata": {},
   "outputs": [],
   "source": [
    "# 서울시 공공도서관 위치를 지도에 출력해보는 예제\n",
    "# 한글처리\n",
    "import matplotlib.pyplot as plt\n",
    "import numpy as np\n",
    "import warnings\n",
    "import csv\n",
    "import pandas as pd\n",
    "# 데이터시각화 tool\n",
    "from plotnine import * # r의 ggplot2 시각화패키지를 python에서도 사용\n",
    "import folium\n",
    "import re\n",
    "\n",
    "plt.rcParams['font.family'] = 'gulim'\n",
    "plt.rcParams['axes.unicode_minus'] = False\n",
    "warnings.filterwarnings('ignore')\n",
    "\n",
    "library = pd.rmead_csv('./서울시 공공도서관 현황정보.csv',delimiter=',', encoding='cp949')\n",
    "display(library)"
   ]
  },
  {
   "cell_type": "code",
   "execution_count": null,
   "id": "a4f66dc0-0036-40c9-ba0f-460604eabe79",
   "metadata": {},
   "outputs": [],
   "source": [
    "# 1) scatter, library => 시각화(위치)\n",
    "plt.scatter(library.위도, library.경도)\n",
    "plt.title('서울 공공도서관 위치')\n",
    "plt.show()"
   ]
  },
  {
   "cell_type": "code",
   "execution_count": null,
   "id": "9cb73371-d7de-419b-97e0-e681102af98e",
   "metadata": {},
   "outputs": [],
   "source": [
    "# 2) plotnine, ggplot2\n",
    "(ggplot(library)\n",
    " + aes(x='경도', y='위도', color='구명')\n",
    " + geom_point()\n",
    " + theme(text=element_text(family='gulim'))\n",
    ")"
   ]
  },
  {
   "cell_type": "code",
   "execution_count": null,
   "id": "8b31142d-98b2-4f5f-9ff1-1f73096f6d90",
   "metadata": {},
   "outputs": [],
   "source": [
    "# 3) folium으로 시각화\n",
    "lng = library.위도.mean()\n",
    "lat = library.경도.mean()\n",
    "\n",
    "m = folium.Map(location = [lng, lat], zoom_start=11)\n",
    "\n",
    "for i in library.index:\n",
    "    icon_color = 'blue'\n",
    "    library_info = (library.loc[i, '도서관명'] + '-' + library.loc[i, '주소'] + \n",
    "                    '전화번호 : ' + str(library.loc[i, '전화번호']) + \n",
    "                    '운영시간 : ' + str(library.loc[i, '운영시간']) + \n",
    "                    '정기 휴관일 : ' + str(library.loc[i, '정기 휴관일']))\n",
    "    folium.CircleMarker(\n",
    "        location=[library.loc[i,'위도'], library.loc[i,'경도']],\n",
    "        popup = folium.Popup(library_info, max_width = 300)\n",
    "    ).add_to(m)\n",
    "\n",
    "m\n",
    "\n",
    "# 팝업 내용은 library_info로 팝업 창의 너비는 300으로 해주세요!\n",
    "# fill, radius, icon_color 옵션은 마음대로 설정!!!\n",
    "# library_info = (library.loc[lib, '도서관명'] + '-' + library.loc[lib, '주소'] + \n",
    "#                     '전화번호 : ' + str(library.loc[lib, '전화번호']) + \n",
    "#                     '운영시간 : ' + str(library.loc[lib, '운영시간']) + \n",
    "#                     '정기 휴관일 : ' + str(library.loc[lib, '정기 휴관일']))"
   ]
  }
 ],
 "metadata": {
  "kernelspec": {
   "display_name": "Python 3 (ipykernel)",
   "language": "python",
   "name": "python3"
  },
  "language_info": {
   "codemirror_mode": {
    "name": "ipython",
    "version": 3
   },
   "file_extension": ".py",
   "mimetype": "text/x-python",
   "name": "python",
   "nbconvert_exporter": "python",
   "pygments_lexer": "ipython3",
   "version": "3.11.7"
  }
 },
 "nbformat": 4,
 "nbformat_minor": 5
}
