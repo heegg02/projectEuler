{
 "cells": [
  {
   "cell_type": "markdown",
   "id": "26481d6a-31f2-43ae-a8c6-57befe07f2d4",
   "metadata": {},
   "source": [
    "billboard hot-100에서 제목과 아티스트명 가지고 오기"
   ]
  },
  {
   "cell_type": "code",
   "execution_count": 22,
   "id": "114cf66f-0c48-4464-ab98-6e39cc54c38b",
   "metadata": {},
   "outputs": [],
   "source": [
    "from bs4 import BeautifulSoup as bs\n",
    "from urllib.parse import quote\n",
    "from urllib.request import urlopen\n",
    "import json\n",
    "\n",
    "url = f'https://www.billboard.com/charts/hot-100/'\n",
    "\n",
    "html = urlopen(url)\n",
    "soup = bs(html, 'html.parser')\n",
    "\n",
    "lists = soup.find('div',{'class':'chart-results-list'}).find_all('div',{'class':'o-chart-results-list-row-container'})\n",
    "\n",
    "data = []\n",
    "\n",
    "for items in lists:\n",
    "    title = items.find('h3',{'class':'c-title'}).string.strip()\n",
    "    artist = items.find('h3',{'class':'c-title'}).find_next().string.strip()\n",
    "    \n",
    "    song_info = {\n",
    "        \"title\": title,\n",
    "        \"artist\": artist\n",
    "    }\n",
    "\n",
    "    data.append(song_info)\n",
    "\n",
    "with open('Ex01.json', 'w') as f:\n",
    "    json.dump(data, f)"
   ]
  }
 ],
 "metadata": {
  "kernelspec": {
   "display_name": "Python 3 (ipykernel)",
   "language": "python",
   "name": "python3"
  },
  "language_info": {
   "codemirror_mode": {
    "name": "ipython",
    "version": 3
   },
   "file_extension": ".py",
   "mimetype": "text/x-python",
   "name": "python",
   "nbconvert_exporter": "python",
   "pygments_lexer": "ipython3",
   "version": "3.11.7"
  }
 },
 "nbformat": 4,
 "nbformat_minor": 5
}
