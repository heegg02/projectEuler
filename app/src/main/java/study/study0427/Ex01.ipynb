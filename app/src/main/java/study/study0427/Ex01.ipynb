{
 "cells": [
  {
   "cell_type": "markdown",
   "id": "653e411a-0f57-4c17-8ddf-0e19a569424b",
   "metadata": {},
   "source": [
    "아래 명령어 실행하여 templates 파일에 Ex01.html 생성"
   ]
  },
  {
   "cell_type": "code",
   "execution_count": null,
   "id": "75d72e49-1eab-4131-8bb1-6b257ab02dbd",
   "metadata": {},
   "outputs": [],
   "source": [
    "%%writefile ./templates/Ex01.html\n",
    "<!DOCTYPE html>\n",
    "<html>\n",
    "<body>\n",
    "    <h2> title : {{ title }}</h2>\n",
    "    <h5> data : {{ data }}</h5>\n",
    "</body>\n",
    "</html>"
   ]
  },
  {
   "cell_type": "markdown",
   "id": "13568562-614c-41f0-b18b-45f96575f1ae",
   "metadata": {},
   "source": [
    "아래 코드 완성하기"
   ]
  },
  {
   "cell_type": "code",
   "execution_count": null,
   "id": "a381d19a-61ef-4eb6-ab13-78c9f123c540",
   "metadata": {},
   "outputs": [],
   "source": [
    "import json\n",
    "from flask import Flask, render_template\n",
    "\n",
    "app = Flask(__name__)\n",
    "\n",
    "json_data = '''{\n",
    "    \"main\": {\n",
    "        \"title\":\"main\",\n",
    "        \"data\":\"maindata\"\n",
    "    },\n",
    "    \"stage1\": {\n",
    "        \"title\":\"stage1\",\n",
    "        \"data\":\"stage1data\"\n",
    "    },\n",
    "    \"stage2\": {\n",
    "        \"title\":\"stage2\",\n",
    "        \"data\":\"stage2data\"\n",
    "    }\n",
    "}'''\n",
    "\n",
    "json_data = json.loads(json_data)\n",
    "\n",
    "# https://localhost:5000/\n",
    "@app.route('/')\n",
    "def main():\n",
    "    title = ???\n",
    "    data = ???\n",
    "    return render_template('Ex01.html', ???, ???)\n",
    "\n",
    "# https://localhost:5000/stage1\n",
    "@app.route('/stage1')\n",
    "def stage1():\n",
    "    title = ???\n",
    "    data = \n",
    "    return render_template('Ex01.html', ???, ???)\n",
    "\n",
    "# https://localhost:5000/stage2\n",
    "@app.route('/stage2')\n",
    "def stage2():\n",
    "    title = ???\n",
    "    data = ???\n",
    "    return render_template('Ex01.html', ???, ???)\n",
    "\n",
    "if __name__ == '__main__':\n",
    "    app.run()"
   ]
  }
 ],
 "metadata": {
  "kernelspec": {
   "display_name": "Python 3 (ipykernel)",
   "language": "python",
   "name": "python3"
  },
  "language_info": {
   "codemirror_mode": {
    "name": "ipython",
    "version": 3
   },
   "file_extension": ".py",
   "mimetype": "text/x-python",
   "name": "python",
   "nbconvert_exporter": "python",
   "pygments_lexer": "ipython3",
   "version": "3.11.7"
  }
 },
 "nbformat": 4,
 "nbformat_minor": 5
}
