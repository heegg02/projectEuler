{
 "cells": [
  {
   "cell_type": "markdown",
   "id": "ae6c1234-f3cc-48e1-93af-a3af2fad92a9",
   "metadata": {},
   "source": [
    "# 요트다이스 만들기_02 aka.야추다이스"
   ]
  },
  {
   "cell_type": "markdown",
   "id": "e2c1de48-03f5-45b6-a4c5-8c8093c28e9b",
   "metadata": {},
   "source": [
    "##### Small Straight : 이어지는 주사위 눈이 4개 이상일 때. 고정 15점. ex) 1 2 3 4 6, 1 3 4 5 6"
   ]
  },
  {
   "cell_type": "code",
   "execution_count": null,
   "id": "d1f18660-6dbf-4aca-b56c-56ac188bb90b",
   "metadata": {},
   "outputs": [],
   "source": [
    "import random\n",
    "\n",
    "dice1 = int(random.random()*3+1)\n",
    "dice2 = int(random.random()*3+1)\n",
    "dice3 = int(random.random()*3+1)\n",
    "dice4 = int(random.random()*3+1)\n",
    "dice5 = int(random.random()*3+1)\n",
    "point = 0\n",
    "\n",
    "if  :\n",
    "    point += 15\n",
    "\n",
    "\n",
    "print(dice1,dice2,dice3,dice4,dice5)\n",
    "print(point)"
   ]
  },
  {
   "cell_type": "markdown",
   "id": "f1e39ab9-ad2f-4d9b-afd5-97548c6663d7",
   "metadata": {},
   "source": [
    "##### Large Straight : 이어지는 주사위 눈이 5개일 때. 고정 30점. ex) 1 2 3 4 5, 2 3 4 5 6"
   ]
  },
  {
   "cell_type": "code",
   "execution_count": null,
   "id": "a1b51a80-ce2b-4ca5-80df-dc78dcf1d403",
   "metadata": {},
   "outputs": [],
   "source": [
    "dice1 = int(random.random()*3+1)\n",
    "dice2 = int(random.random()*3+1)\n",
    "dice3 = int(random.random()*3+1)\n",
    "dice4 = int(random.random()*3+1)\n",
    "dice5 = int(random.random()*3+1)\n",
    "point = 0\n",
    "\n",
    "if  :\n",
    "    point += 30\n",
    "\n",
    "print(dice1,dice2,dice3,dice4,dice5)\n",
    "print(point)"
   ]
  }
 ],
 "metadata": {
  "kernelspec": {
   "display_name": "Python 3 (ipykernel)",
   "language": "python",
   "name": "python3"
  },
  "language_info": {
   "codemirror_mode": {
    "name": "ipython",
    "version": 3
   },
   "file_extension": ".py",
   "mimetype": "text/x-python",
   "name": "python",
   "nbconvert_exporter": "python",
   "pygments_lexer": "ipython3",
   "version": "3.11.7"
  }
 },
 "nbformat": 4,
 "nbformat_minor": 5
}
