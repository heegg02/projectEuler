{
 "cells": [
  {
   "cell_type": "code",
   "execution_count": 47,
   "id": "4ed8b53d-da41-414b-8c0a-0f0fc219965d",
   "metadata": {},
   "outputs": [
    {
     "name": "stdout",
     "output_type": "stream",
     "text": [
      "CSV 파일 생성완료.\n",
      "가장 높았던 기온은 2022-01-05 의 30°C 입니다\n"
     ]
    }
   ],
   "source": [
    "# weather_data는 날짜별 기온을 기록한 csv파일 입니다. 최고기온과, 해당 날짜를 출력하도록 코드를 짜주세요\n",
    "# 출력예시 : 가장 높았던 기온은 2022-01-05 의 30°C 입니다\n",
    "import pandas as pd\n",
    "\n",
    "# 날씨 데이터 \n",
    "data = {\n",
    "    'date': ['2022-01-01', '2022-01-02', '2022-01-03', '2022-01-04', '2022-01-05'],\n",
    "    'temp_data': [25, 28, 29, 27, 30]\n",
    "}\n",
    "\n",
    "# DataFrame 생성\n",
    "df = pd.DataFrame(data)\n",
    "\n",
    "# CSV 파일 저장\n",
    "df.to_csv('./weather_data.csv', index=False)\n",
    "print(\"CSV 파일 생성완료.\")\n",
    "\n",
    "# 여기서부터 풀어주세요\n",
    "# CSV 파일 읽기\n",
    "temp = pd.read_csv('./weather_data.csv')\n",
    "\n",
    "# 'max_temp' 열에서 가장 높은 온도를 기록한 행 찾기\n",
    "max_temp = temp[temp.temp_data == temp.temp_data.max()]\n",
    "\n",
    "# 결과 출력\n",
    "print(f\"가장 높았던 기온은 {max_temp.date.values[0]} 의 {max_temp.temp_data.values[0]}°C 입니다\")"
   ]
  }
 ],
 "metadata": {
  "kernelspec": {
   "display_name": "Python 3 (ipykernel)",
   "language": "python",
   "name": "python3"
  },
  "language_info": {
   "codemirror_mode": {
    "name": "ipython",
    "version": 3
   },
   "file_extension": ".py",
   "mimetype": "text/x-python",
   "name": "python",
   "nbconvert_exporter": "python",
   "pygments_lexer": "ipython3",
   "version": "3.11.7"
  }
 },
 "nbformat": 4,
 "nbformat_minor": 5
}
