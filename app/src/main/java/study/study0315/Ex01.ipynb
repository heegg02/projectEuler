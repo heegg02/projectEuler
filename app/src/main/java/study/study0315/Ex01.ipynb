{
 "cells": [
  {
   "cell_type": "code",
   "execution_count": 1,
   "id": "e7cd9a86-9cd0-414c-983e-65b0c1e4f3e0",
   "metadata": {},
   "outputs": [],
   "source": [
    "# 문제1) 다음 코드를 실행해보고 오류가 발생하는 원인은?\n",
    "  \n",
    "# t = (1, 2, 3)\n",
    "# t[0] = 'a'\n",
    "# Traceback (most recent call last):\n",
    "#   File \"<pyshell#46>\", line 1, in <module>\n",
    "#     t[0] = 'a'\n",
    "# TypeError: 'tuple' object does not support item assignment\n",
    "\n",
    "# = tuple은 수정불가"
   ]
  },
  {
   "cell_type": "code",
   "execution_count": 3,
   "id": "00bf5f25-29b8-41f3-8424-3486378db723",
   "metadata": {},
   "outputs": [
    {
     "name": "stdout",
     "output_type": "stream",
     "text": [
      "['삼성전자', 'LG전자', 'SK Hynix']\n"
     ]
    }
   ],
   "source": [
    "# 문제2) 다음 튜플을 리스트로 변환하시오\n",
    "\n",
    "interest = ('삼성전자', 'LG전자', 'SK Hynix')\n",
    "l = list(interest)\n",
    "print(l)"
   ]
  },
  {
   "cell_type": "code",
   "execution_count": 5,
   "id": "43be5129-8c46-4f70-932b-4bdd72ed43ef",
   "metadata": {},
   "outputs": [
    {
     "name": "stdout",
     "output_type": "stream",
     "text": [
      "(2, 4, 6, 8, 10, 12, 14, 16, 18, 20, 22, 24, 26, 28, 30, 32, 34, 36, 38, 40, 42, 44, 46, 48, 50, 52, 54, 56, 58, 60, 62, 64, 66, 68, 70, 72, 74, 76, 78, 80, 82, 84, 86, 88, 90, 92, 94, 96, 98)\n"
     ]
    }
   ],
   "source": [
    "# 문제3) 1 부터 99까지의 정수 중 짝수만 저장된 튜플을 생성하시오\n",
    "# 예시: (2, 4, 6, 8 ... 98)\n",
    "\n",
    "t = tuple(range(2,100,2))\n",
    "print(t)"
   ]
  },
  {
   "cell_type": "code",
   "execution_count": 6,
   "id": "dd1634b9-b5e7-43ab-a376-e96e2fc1429a",
   "metadata": {},
   "outputs": [
    {
     "name": "stdout",
     "output_type": "stream",
     "text": [
      "{'메로나': 1000, '폴라포': 1200, '빵빠레': 1800}\n"
     ]
    }
   ],
   "source": [
    "# 문제4) 다음 아이스크림 이름과 희망 가격을 딕셔너리로 구성하시오\n",
    "# 이름\t 희망가격\n",
    "# 메로나 \t1000\n",
    "# 폴라포 \t1200\n",
    "# 빵빠레 \t1800\n",
    "\n",
    "ice = {'메로나':1000,'폴라포':1200,'빵빠레':1800}\n",
    "print(ice)"
   ]
  },
  {
   "cell_type": "code",
   "execution_count": 7,
   "id": "c10ab782-22d6-4950-bbbd-445c334bdfa8",
   "metadata": {},
   "outputs": [
    {
     "name": "stdout",
     "output_type": "stream",
     "text": [
      "[1200, 1200, 1800, 1500, 1000]\n"
     ]
    }
   ],
   "source": [
    "# 문제5) 다음의 딕셔너리에서 values 값으로만 구성된 리스트를 생성하시오\n",
    "\n",
    "icecream = {'탱크보이': 1200, '폴라포': 1200, '빵빠레': 1800, '월드콘': 1500, '메로나': 1000}\n",
    "l = list(icecream.values())\n",
    "print(l)"
   ]
  }
 ],
 "metadata": {
  "kernelspec": {
   "display_name": "Python 3 (ipykernel)",
   "language": "python",
   "name": "python3"
  },
  "language_info": {
   "codemirror_mode": {
    "name": "ipython",
    "version": 3
   },
   "file_extension": ".py",
   "mimetype": "text/x-python",
   "name": "python",
   "nbconvert_exporter": "python",
   "pygments_lexer": "ipython3",
   "version": "3.11.7"
  }
 },
 "nbformat": 4,
 "nbformat_minor": 5
}
